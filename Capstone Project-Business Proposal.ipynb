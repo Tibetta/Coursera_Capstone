{
 "cells": [
  {
   "cell_type": "markdown",
   "metadata": {},
   "source": [
    "# Capstone Project - Week 1 - Business Proposal\n",
    "\n",
    "#### Introduction\n",
    "\n",
    "The purpose of this Project is to help people in exploring better facilities around cities. It will help people making smart and efficient decision on selecting cities to visite or where to move in Europe.\n",
    "\n",
    "We are in the age of easy travels, people moves easly and quickly from one city to anotherone in a different country.\n",
    "This project is for those people who are looking for a new city, it can be for only a nice holiday or for job or study reason as well. \n",
    "It will give an idea about the accessing to Cafe, Super market, gym, grocery shops, mall, theatre, etc.\n",
    "\n",
    "This Project aim to create an analysis of features for a people who move for different reasons between cities inside Europe to search a best city as a comparative analysis between cities. The features include number of market, palces for food, cultural places and other daily needs things nearby.\n",
    "\n",
    "It will help people to know a bit the area before moving to a new city, country or place for their work or nice vacation.\n",
    "\n",
    "##### Problem Which Tried to Solve:\n",
    "\n",
    "The major purpose of this project is to give a base knowledge of cities. It is for the people who are moving there for vacation or to start a new life. Presence of shops, restaurants, markets, theater and other daily needs things nearby.\n",
    "\n",
    "    \n",
    "#### Work Flow:\n",
    "\n",
    "Using credentials of *Google API* and *Foursquare API* features of nearby places of the cities would be mined. Due to http request limitations the number of places per city parameter would reasonably be set to 1000 within 1 km.\n",
    "\n",
    "#### Clustering Approach:\n",
    "\n",
    "To compare the similarities between the cities, we decided to explore cities, segment them, and group them into clusters to find the similar ones. To be able to do that, we need to cluster data which is a form of unsupervised machine learning: k-means clustering algorithm\n",
    "    \n",
    "#### Libraries Which are Used to Develope the Project:\n",
    "\n",
    "Pandas: For creating and manipulating dataframes.\n",
    "\n",
    "Folium: Python visualization library would be used to visualize the neighborhoods cluster distribution of using interactive leaflet map.\n",
    "\n",
    "Geocoder: To retrieve Location Data.\n",
    "\n",
    "JSON: Library to handle JSON files.\n",
    "\n",
    "Matplotlib: Python Plotting Module.\n",
    "\n",
    "Numpy: Fundamental package for array computing with Python.\n"
   ]
  }
 ],
 "metadata": {
  "kernelspec": {
   "display_name": "Python 3",
   "language": "python",
   "name": "python3"
  },
  "language_info": {
   "codemirror_mode": {
    "name": "ipython",
    "version": 3
   },
   "file_extension": ".py",
   "mimetype": "text/x-python",
   "name": "python",
   "nbconvert_exporter": "python",
   "pygments_lexer": "ipython3",
   "version": "3.8.3"
  }
 },
 "nbformat": 4,
 "nbformat_minor": 4
}
