{
 "cells": [
  {
   "cell_type": "markdown",
   "metadata": {},
   "source": [
    "# Capstone Project - Week 1 - Data\n",
    "\n",
    "\n",
    "The data we will use to conduct this analysis are the coordinates and the venues in four european university cities: Bologna, Frankfurt, Toulouse, Salamanca.\n",
    "\n",
    "The coordinates of the cities will be obtained using the *Google API*, while the informations on the venues will be extracted using the *Foursquare API*.\n",
    "\n",
    "#### Google API Data:\n",
    "\n",
    "Ones the cities has been selected, we can retrieve google’s geocoded data from *Google Geocoding API* using Geocoder. The process convert the addresses (in our case the format will be 'city name, country name') into geographic coordinates (e.g latitude and longitude). \n",
    "\n",
    "\n",
    "#### Foursquare API Data:\n",
    "\n",
    "In order to gain data about different venues in each cities we will use *Foursquare* locational information. *Foursquare* is a location data provider with information about all manner of venues and events within an area of interest. Such information includes venue names, locations, menus and even photos. \n",
    "\n",
    "It is worth to notice that the *Foursquare*  location platform has been used as the sole data source since all the stated required information can be obtained through the API. However this can rapresent a limitation in the data if the API database are not updated.\n",
    "\n",
    "After selecting the cities we were interested in, we connect the Foursquare API to gather information about venues inside each one.\n",
    "\n",
    "The data retrieved from Foursquare contained information of venues within a specified distance of the longitude and latitude obtained with the *Google API*. The venues were researched selecting a research default radius of 100 km.\n",
    "\n",
    "The information obtained per venue are:\n",
    "\n",
    "1. City\n",
    "2. Venue\n",
    "3. Name of the venue e.g. the name of a store or restaurant\n",
    "4. Venue Latitude\n",
    "5. Venue Longitude\n",
    "6. Venue Category\n",
    "\n"
   ]
  }
 ],
 "metadata": {
  "kernelspec": {
   "display_name": "Python 3",
   "language": "python",
   "name": "python3"
  },
  "language_info": {
   "codemirror_mode": {
    "name": "ipython",
    "version": 3
   },
   "file_extension": ".py",
   "mimetype": "text/x-python",
   "name": "python",
   "nbconvert_exporter": "python",
   "pygments_lexer": "ipython3",
   "version": "3.8.3"
  }
 },
 "nbformat": 4,
 "nbformat_minor": 4
}
